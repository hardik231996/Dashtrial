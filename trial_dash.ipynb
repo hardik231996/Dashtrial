{
 "cells": [
  {
   "cell_type": "code",
   "execution_count": 1,
   "id": "bb6c16c0",
   "metadata": {},
   "outputs": [],
   "source": [
    "#import numpy\n",
    "! jupyter labextension install jupyterlab-plotly"
   ]
  },
  {
   "cell_type": "code",
   "execution_count": 6,
   "id": "3b6ac3d0",
   "metadata": {},
   "outputs": [
    {
     "name": "stdout",
     "output_type": "stream",
     "text": [
      "Requirement already satisfied: jupyter-dash in c:\\users\\sesa655338\\appdata\\local\\programs\\python\\python310\\lib\\site-packages (0.4.2)\n",
      "Requirement already satisfied: ipython in c:\\users\\sesa655338\\appdata\\local\\programs\\python\\python310\\lib\\site-packages (from jupyter-dash) (8.2.0)\n",
      "Requirement already satisfied: flask in c:\\users\\sesa655338\\appdata\\local\\programs\\python\\python310\\lib\\site-packages (from jupyter-dash) (2.1.1)\n",
      "Requirement already satisfied: retrying in c:\\users\\sesa655338\\appdata\\local\\programs\\python\\python310\\lib\\site-packages (from jupyter-dash) (1.3.3)\n",
      "Requirement already satisfied: nest-asyncio in c:\\users\\sesa655338\\appdata\\local\\programs\\python\\python310\\lib\\site-packages (from jupyter-dash) (1.5.5)\n",
      "Requirement already satisfied: requests in c:\\users\\sesa655338\\appdata\\local\\programs\\python\\python310\\lib\\site-packages (from jupyter-dash) (2.27.1)\n",
      "Requirement already satisfied: dash in c:\\users\\sesa655338\\appdata\\local\\programs\\python\\python310\\lib\\site-packages (from jupyter-dash) (2.3.1)\n",
      "Requirement already satisfied: ipykernel in c:\\users\\sesa655338\\appdata\\local\\programs\\python\\python310\\lib\\site-packages (from jupyter-dash) (6.13.0)\n",
      "Requirement already satisfied: ansi2html in c:\\users\\sesa655338\\appdata\\local\\programs\\python\\python310\\lib\\site-packages (from jupyter-dash) (1.7.0)\n",
      "Requirement already satisfied: dash-table==5.0.0 in c:\\users\\sesa655338\\appdata\\local\\programs\\python\\python310\\lib\\site-packages (from dash->jupyter-dash) (5.0.0)\n",
      "Requirement already satisfied: dash-core-components==2.0.0 in c:\\users\\sesa655338\\appdata\\local\\programs\\python\\python310\\lib\\site-packages (from dash->jupyter-dash) (2.0.0)\n",
      "Requirement already satisfied: plotly>=5.0.0 in c:\\users\\sesa655338\\appdata\\local\\programs\\python\\python310\\lib\\site-packages (from dash->jupyter-dash) (5.7.0)\n",
      "Requirement already satisfied: dash-html-components==2.0.0 in c:\\users\\sesa655338\\appdata\\local\\programs\\python\\python310\\lib\\site-packages (from dash->jupyter-dash) (2.0.0)\n",
      "Requirement already satisfied: flask-compress in c:\\users\\sesa655338\\appdata\\local\\programs\\python\\python310\\lib\\site-packages (from dash->jupyter-dash) (1.11)\n",
      "Requirement already satisfied: itsdangerous>=2.0 in c:\\users\\sesa655338\\appdata\\local\\programs\\python\\python310\\lib\\site-packages (from flask->jupyter-dash) (2.1.2)\n",
      "Requirement already satisfied: Jinja2>=3.0 in c:\\users\\sesa655338\\appdata\\local\\programs\\python\\python310\\lib\\site-packages (from flask->jupyter-dash) (3.1.1)\n",
      "Requirement already satisfied: Werkzeug>=2.0 in c:\\users\\sesa655338\\appdata\\local\\programs\\python\\python310\\lib\\site-packages (from flask->jupyter-dash) (2.1.1)\n",
      "Requirement already satisfied: click>=8.0 in c:\\users\\sesa655338\\appdata\\local\\programs\\python\\python310\\lib\\site-packages (from flask->jupyter-dash) (8.1.2)\n",
      "Requirement already satisfied: debugpy>=1.0 in c:\\users\\sesa655338\\appdata\\local\\programs\\python\\python310\\lib\\site-packages (from ipykernel->jupyter-dash) (1.6.0)\n",
      "Requirement already satisfied: traitlets>=5.1.0 in c:\\users\\sesa655338\\appdata\\local\\programs\\python\\python310\\lib\\site-packages (from ipykernel->jupyter-dash) (5.1.1)\n",
      "Requirement already satisfied: jupyter-client>=6.1.12 in c:\\users\\sesa655338\\appdata\\local\\programs\\python\\python310\\lib\\site-packages (from ipykernel->jupyter-dash) (7.2.2)\n",
      "Requirement already satisfied: packaging in c:\\users\\sesa655338\\appdata\\local\\programs\\python\\python310\\lib\\site-packages (from ipykernel->jupyter-dash) (21.3)\n",
      "Requirement already satisfied: matplotlib-inline>=0.1 in c:\\users\\sesa655338\\appdata\\local\\programs\\python\\python310\\lib\\site-packages (from ipykernel->jupyter-dash) (0.1.3)\n",
      "Requirement already satisfied: psutil in c:\\users\\sesa655338\\appdata\\local\\programs\\python\\python310\\lib\\site-packages (from ipykernel->jupyter-dash) (5.9.0)\n",
      "Requirement already satisfied: tornado>=6.1 in c:\\users\\sesa655338\\appdata\\local\\programs\\python\\python310\\lib\\site-packages (from ipykernel->jupyter-dash) (6.1)\n",
      "Requirement already satisfied: jedi>=0.16 in c:\\users\\sesa655338\\appdata\\local\\programs\\python\\python310\\lib\\site-packages (from ipython->jupyter-dash) (0.18.1)\n",
      "Requirement already satisfied: pickleshare in c:\\users\\sesa655338\\appdata\\local\\programs\\python\\python310\\lib\\site-packages (from ipython->jupyter-dash) (0.7.5)\n",
      "Requirement already satisfied: decorator in c:\\users\\sesa655338\\appdata\\local\\programs\\python\\python310\\lib\\site-packages (from ipython->jupyter-dash) (5.1.1)\n",
      "Requirement already satisfied: setuptools>=18.5 in c:\\users\\sesa655338\\appdata\\local\\programs\\python\\python310\\lib\\site-packages (from ipython->jupyter-dash) (58.1.0)\n",
      "Requirement already satisfied: stack-data in c:\\users\\sesa655338\\appdata\\local\\programs\\python\\python310\\lib\\site-packages (from ipython->jupyter-dash) (0.2.0)\n",
      "Requirement already satisfied: colorama in c:\\users\\sesa655338\\appdata\\local\\programs\\python\\python310\\lib\\site-packages (from ipython->jupyter-dash) (0.4.4)\n",
      "Requirement already satisfied: pygments>=2.4.0 in c:\\users\\sesa655338\\appdata\\local\\programs\\python\\python310\\lib\\site-packages (from ipython->jupyter-dash) (2.11.2)\n",
      "Requirement already satisfied: prompt-toolkit!=3.0.0,!=3.0.1,<3.1.0,>=2.0.0 in c:\\users\\sesa655338\\appdata\\local\\programs\\python\\python310\\lib\\site-packages (from ipython->jupyter-dash) (3.0.29)\n",
      "Requirement already satisfied: backcall in c:\\users\\sesa655338\\appdata\\local\\programs\\python\\python310\\lib\\site-packages (from ipython->jupyter-dash) (0.2.0)\n",
      "Requirement already satisfied: urllib3<1.27,>=1.21.1 in c:\\users\\sesa655338\\appdata\\local\\programs\\python\\python310\\lib\\site-packages (from requests->jupyter-dash) (1.26.9)\n",
      "Requirement already satisfied: charset-normalizer~=2.0.0 in c:\\users\\sesa655338\\appdata\\local\\programs\\python\\python310\\lib\\site-packages (from requests->jupyter-dash) (2.0.12)\n",
      "Requirement already satisfied: certifi>=2017.4.17 in c:\\users\\sesa655338\\appdata\\local\\programs\\python\\python310\\lib\\site-packages (from requests->jupyter-dash) (2021.10.8)\n",
      "Requirement already satisfied: idna<4,>=2.5 in c:\\users\\sesa655338\\appdata\\local\\programs\\python\\python310\\lib\\site-packages (from requests->jupyter-dash) (3.3)\n",
      "Requirement already satisfied: six>=1.7.0 in c:\\users\\sesa655338\\appdata\\local\\programs\\python\\python310\\lib\\site-packages (from retrying->jupyter-dash) (1.16.0)\n",
      "Requirement already satisfied: parso<0.9.0,>=0.8.0 in c:\\users\\sesa655338\\appdata\\local\\programs\\python\\python310\\lib\\site-packages (from jedi>=0.16->ipython->jupyter-dash) (0.8.3)\n",
      "Requirement already satisfied: MarkupSafe>=2.0 in c:\\users\\sesa655338\\appdata\\local\\programs\\python\\python310\\lib\\site-packages (from Jinja2>=3.0->flask->jupyter-dash) (2.1.1)\n",
      "Requirement already satisfied: jupyter-core>=4.9.2 in c:\\users\\sesa655338\\appdata\\local\\programs\\python\\python310\\lib\\site-packages (from jupyter-client>=6.1.12->ipykernel->jupyter-dash) (4.9.2)\n",
      "Requirement already satisfied: pyzmq>=22.3 in c:\\users\\sesa655338\\appdata\\local\\programs\\python\\python310\\lib\\site-packages (from jupyter-client>=6.1.12->ipykernel->jupyter-dash) (22.3.0)\n",
      "Requirement already satisfied: entrypoints in c:\\users\\sesa655338\\appdata\\local\\programs\\python\\python310\\lib\\site-packages (from jupyter-client>=6.1.12->ipykernel->jupyter-dash) (0.4)\n",
      "Requirement already satisfied: python-dateutil>=2.8.2 in c:\\users\\sesa655338\\appdata\\local\\programs\\python\\python310\\lib\\site-packages (from jupyter-client>=6.1.12->ipykernel->jupyter-dash) (2.8.2)\n",
      "Requirement already satisfied: tenacity>=6.2.0 in c:\\users\\sesa655338\\appdata\\local\\programs\\python\\python310\\lib\\site-packages (from plotly>=5.0.0->dash->jupyter-dash) (8.0.1)\n",
      "Requirement already satisfied: wcwidth in c:\\users\\sesa655338\\appdata\\local\\programs\\python\\python310\\lib\\site-packages (from prompt-toolkit!=3.0.0,!=3.0.1,<3.1.0,>=2.0.0->ipython->jupyter-dash) (0.2.5)\n",
      "Requirement already satisfied: brotli in c:\\users\\sesa655338\\appdata\\local\\programs\\python\\python310\\lib\\site-packages (from flask-compress->dash->jupyter-dash) (1.0.9)\n",
      "Requirement already satisfied: pyparsing!=3.0.5,>=2.0.2 in c:\\users\\sesa655338\\appdata\\local\\programs\\python\\python310\\lib\\site-packages (from packaging->ipykernel->jupyter-dash) (3.0.8)\n",
      "Requirement already satisfied: asttokens in c:\\users\\sesa655338\\appdata\\local\\programs\\python\\python310\\lib\\site-packages (from stack-data->ipython->jupyter-dash) (2.0.5)\n",
      "Requirement already satisfied: executing in c:\\users\\sesa655338\\appdata\\local\\programs\\python\\python310\\lib\\site-packages (from stack-data->ipython->jupyter-dash) (0.8.3)\n",
      "Requirement already satisfied: pure-eval in c:\\users\\sesa655338\\appdata\\local\\programs\\python\\python310\\lib\\site-packages (from stack-data->ipython->jupyter-dash) (0.2.2)\n",
      "Requirement already satisfied: pywin32>=1.0 in c:\\users\\sesa655338\\appdata\\local\\programs\\python\\python310\\lib\\site-packages (from jupyter-core>=4.9.2->jupyter-client>=6.1.12->ipykernel->jupyter-dash) (303)\n"
     ]
    }
   ],
   "source": [
    " ! pip install jupyter-dash\n",
    "#jupyter lab build"
   ]
  },
  {
   "cell_type": "code",
   "execution_count": null,
   "id": "d99f2f26",
   "metadata": {},
   "outputs": [
    {
     "name": "stdout",
     "output_type": "stream",
     "text": [
      "Dash is running on http://127.0.0.1:8050/\n",
      "\n",
      " * Serving Flask app '__main__' (lazy loading)\n",
      " * Environment: production\n",
      "\u001b[31m   WARNING: This is a development server. Do not use it in a production deployment.\u001b[0m\n",
      "\u001b[2m   Use a production WSGI server instead.\u001b[0m\n",
      " * Debug mode: on\n"
     ]
    }
   ],
   "source": [
    "from dash import Dash, html, dcc\n",
    "import plotly.express as px\n",
    "import pandas as pd\n",
    "\n",
    "app = Dash(__name__)\n",
    "\n",
    "# assume you have a \"long-form\" data frame\n",
    "# see https://plotly.com/python/px-arguments/ for more options\n",
    "df = pd.DataFrame({\n",
    "    \"Fruit\": [\"Apples\", \"Oranges\", \"Bananas\", \"Apples\", \"Oranges\", \"Bananas\"],\n",
    "    \"Amount\": [4, 1, 2, 2, 4, 5],\n",
    "    \"City\": [\"SF\", \"SF\", \"SF\", \"Montreal\", \"Montreal\", \"Montreal\"]\n",
    "})\n",
    "\n",
    "fig = px.bar(df, x=\"Fruit\", y=\"Amount\", color=\"City\", barmode=\"group\")\n",
    "\n",
    "app.layout = html.Div(children=[\n",
    "    html.H1(children='Hello Dash'),\n",
    "\n",
    "    html.Div(children='''\n",
    "        Dash: A web application framework for your data.\n",
    "    '''),\n",
    "\n",
    "    dcc.Graph(\n",
    "        id='example-graph',\n",
    "        figure=fig\n",
    "    )\n",
    "])\n",
    "\n",
    "if __name__ == '__main__':\n",
    "    app.run_server(debug=True,use_reloader=False)\n"
   ]
  },
  {
   "cell_type": "code",
   "execution_count": 3,
   "id": "1b091729",
   "metadata": {},
   "outputs": [
    {
     "name": "stdout",
     "output_type": "stream",
     "text": [
      "    fruit  Qty  price\n",
      "0  banana    1     23\n",
      "1  grapes    2     32\n"
     ]
    }
   ],
   "source": [
    "import pandas as pd\n",
    "a = pd.DataFrame({\n",
    "            \"fruit\" : [\"banana\",\"grapes\"],\n",
    "            \"Qty\"   : [1,2],\n",
    "            \"price\" : [23,32]\n",
    "    \n",
    "})\n",
    "print (a)"
   ]
  },
  {
   "cell_type": "code",
   "execution_count": 4,
   "id": "e49a8663",
   "metadata": {},
   "outputs": [
    {
     "name": "stdout",
     "output_type": "stream",
     "text": [
      "1.4.2\n"
     ]
    }
   ],
   "source": [
    "print (pd.__version__)"
   ]
  },
  {
   "cell_type": "code",
   "execution_count": null,
   "id": "09794106",
   "metadata": {},
   "outputs": [],
   "source": []
  },
  {
   "cell_type": "code",
   "execution_count": null,
   "id": "1e564be1",
   "metadata": {},
   "outputs": [],
   "source": []
  }
 ],
 "metadata": {
  "kernelspec": {
   "display_name": "Python 3 (ipykernel)",
   "language": "python",
   "name": "python3"
  },
  "language_info": {
   "codemirror_mode": {
    "name": "ipython",
    "version": 3
   },
   "file_extension": ".py",
   "mimetype": "text/x-python",
   "name": "python",
   "nbconvert_exporter": "python",
   "pygments_lexer": "ipython3",
   "version": "3.10.4"
  }
 },
 "nbformat": 4,
 "nbformat_minor": 5
}
